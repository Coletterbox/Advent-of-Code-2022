{
 "cells": [
  {
   "cell_type": "code",
   "execution_count": 2,
   "metadata": {},
   "outputs": [
    {
     "name": "stdout",
     "output_type": "stream",
     "text": [
      "2-4,6-8\n",
      "2-3,4-5\n",
      "5-7,7-9\n",
      "2-8,3-7\n",
      "6-6,4-6\n",
      "2-6,4-8\n",
      "['2-4,6-8', '2-3,4-5', '5-7,7-9', '2-8,3-7', '6-6,4-6', '2-6,4-8']\n"
     ]
    }
   ],
   "source": [
    "def read_input(filename):\n",
    "    with open(filename) as f:\n",
    "        lines = f.readlines()\n",
    "\n",
    "    array = []\n",
    "\n",
    "    for line in lines:\n",
    "        line = line.rstrip()\n",
    "        print(line)\n",
    "        array.append(line)\n",
    "\n",
    "    return array\n",
    "\n",
    "print(read_input('day_4_sample_input'))"
   ]
  },
  {
   "cell_type": "code",
   "execution_count": 13,
   "metadata": {},
   "outputs": [
    {
     "name": "stdout",
     "output_type": "stream",
     "text": [
      "2-4,6-8\n",
      "2-3,4-5\n",
      "5-7,7-9\n",
      "2-8,3-7\n",
      "6-6,4-6\n",
      "2-6,4-8\n",
      "['2-4', '6-8']\n",
      "['234', '678']\n",
      "['2-3', '4-5']\n",
      "['23', '45']\n",
      "['5-7', '7-9']\n",
      "['567', '789']\n",
      "['2-8', '3-7']\n",
      "['2345678', '34567']\n",
      "['6-6', '4-6']\n",
      "['6', '456']\n",
      "['2-6', '4-8']\n",
      "['23456', '45678']\n",
      "The history saving thread hit an unexpected error (OperationalError('database or disk is full')).History will not be written to the database.\n"
     ]
    }
   ],
   "source": [
    "def generate_lines(filename):\n",
    "    lines_array = read_input(filename)\n",
    "    new_array = []\n",
    "    \n",
    "    for line in lines_array:\n",
    "        line = line.split(',')\n",
    "        print(line)\n",
    "        \n",
    "        sequences = []\n",
    "        \n",
    "        for pair_half in line:\n",
    "            pair_half = pair_half.split('-')\n",
    "#             print(pair_half)\n",
    "            \n",
    "            range_start = pair_half[0]\n",
    "            range_end = pair_half[1]\n",
    "            \n",
    "            all_numbers = ''\n",
    "            \n",
    "            index = int(range_start)\n",
    "            while index <= int(range_end):\n",
    "                all_numbers += str(index)\n",
    "                index += 1\n",
    "                \n",
    "#             print(all_numbers)\n",
    "            sequences.append(all_numbers)\n",
    "    \n",
    "        print(sequences)\n",
    "        \n",
    "generate_lines('day_4_sample_input')"
   ]
  },
  {
   "cell_type": "code",
   "execution_count": null,
   "metadata": {},
   "outputs": [],
   "source": []
  }
 ],
 "metadata": {
  "kernelspec": {
   "display_name": "Python 3",
   "language": "python",
   "name": "python3"
  },
  "language_info": {
   "codemirror_mode": {
    "name": "ipython",
    "version": 3
   },
   "file_extension": ".py",
   "mimetype": "text/x-python",
   "name": "python",
   "nbconvert_exporter": "python",
   "pygments_lexer": "ipython3",
   "version": "3.8.5"
  }
 },
 "nbformat": 4,
 "nbformat_minor": 4
}
