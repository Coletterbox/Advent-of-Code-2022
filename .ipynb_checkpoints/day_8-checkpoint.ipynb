{
 "cells": [
  {
   "cell_type": "code",
   "execution_count": 1,
   "metadata": {},
   "outputs": [
    {
     "name": "stdout",
     "output_type": "stream",
     "text": [
      "['30373', '25512', '65332', '33549', '35390']\n"
     ]
    }
   ],
   "source": [
    "def read_input(filename):\n",
    "    with open(filename) as f:\n",
    "        lines = f.readlines()\n",
    "\n",
    "    array = []\n",
    "\n",
    "    for line in lines:\n",
    "        line = line.rstrip()\n",
    "        array.append(line)\n",
    "\n",
    "    return array\n",
    "\n",
    "print(read_input('day_8_sample_input'))"
   ]
  },
  {
   "cell_type": "code",
   "execution_count": 2,
   "metadata": {},
   "outputs": [
    {
     "data": {
      "text/plain": [
       "16"
      ]
     },
     "execution_count": 2,
     "metadata": {},
     "output_type": "execute_result"
    }
   ],
   "source": [
    "def count_outside_trees(filename):\n",
    "    array = read_input(filename)\n",
    "    \n",
    "    return len(array[0])*2 + (len(array)-2)*2\n",
    "\n",
    "count_outside_trees('day_8_sample_input')\n",
    "count_outside_trees('day_8_input')"
   ]
  },
  {
   "cell_type": "code",
   "execution_count": 5,
   "metadata": {},
   "outputs": [
    {
     "data": {
      "text/plain": [
       "7"
      ]
     },
     "execution_count": 5,
     "metadata": {},
     "output_type": "execute_result"
    }
   ],
   "source": [
    "# def count_visible_inside_trees(filename):\n",
    "#     array = read_input(filename)\n",
    "#     tree_count = 0\n",
    "    \n",
    "# #     oops, this is not what it was asking..\n",
    "# #     row_index = 0\n",
    "# #     while row_index < len(array)-1:\n",
    "# #         column_index = 0\n",
    "# #         while column_index < len(array[0])-1:\n",
    "# #             if ((array[row_index][column_index] < array[row_index-1][column_index]) and (array[row_index][column_index] < array[row_index+1][column_index]) and (array[row_index][column_index] < array[row_index][column_index-1]) and (array[row_index][column_index] < array[row_index][column_index+1])):\n",
    "# #                 tree_count += 1\n",
    "# #             column_index += 1\n",
    "# #         row_index += 1\n",
    "\n",
    "# #     row_index = 0\n",
    "# #     while row_index < len(array)-1:\n",
    "# #         column_index = 0\n",
    "# #         while column_index < len(array[0])-1:\n",
    "# #             if ((array[row_index][column_index] < array[row_index-1][column_index])):\n",
    "# #                 row_index_2 = row_index-1\n",
    "# #                 while row_index_2 < len(array)-1:\n",
    "# #                     if ((array[row_index][column_index] < array[row_index_2][column_index])):\n",
    "# #                         row_index_2 += 1\n",
    "# #                     else:\n",
    "# #                         break #needs to break out of while loop, too\n",
    "# #                     tree_count += 1\n",
    "# #\n",
    "# #             column_index += 1\n",
    "# #         row_index += 1\n",
    "# #    I've just realised I've overcomplicated things and I don't need to do it this way\n",
    "\n",
    "#     row_index = 0\n",
    "#     while row_index < len(array)-1:\n",
    "#         column_index = 0\n",
    "#         while column_index < len(array[0])-1:\n",
    "            \n",
    "            \n",
    "#             column_index += 1\n",
    "#         row_index += 1\n",
    "                \n",
    "#     return tree_count\n",
    "\n",
    "# count_visible_inside_trees('day_8_sample_input')\n",
    "        "
   ]
  },
  {
   "cell_type": "code",
   "execution_count": 21,
   "metadata": {},
   "outputs": [
    {
     "name": "stdout",
     "output_type": "stream",
     "text": [
      "1 2 ['2']\n",
      "1 255 ['5', '5', '2']\n",
      "5 25 ['5', '2']\n",
      "5 12 ['2', '1']\n",
      "True\n",
      "4 335 ['5', '3', '3']\n",
      "4 9 ['9']\n",
      "5 6 ['6']\n",
      "5 332 ['3', '3', '2']\n",
      "True\n"
     ]
    },
    {
     "data": {
      "text/plain": [
       "True"
      ]
     },
     "execution_count": 21,
     "metadata": {},
     "output_type": "execute_result"
    }
   ],
   "source": [
    "def is_visible_from_side(filename, x, y, side):\n",
    "    array = read_input(filename)\n",
    "    if side == 'left':\n",
    "        row = array[y][0:x]\n",
    "    else:\n",
    "        row = array[y][x+1:]\n",
    "        \n",
    "    current_tree = array[y][x]\n",
    "    \n",
    "    ordered_row = sorted(list(row), reverse = True)\n",
    "\n",
    "    print(current_tree, row, ordered_row)\n",
    "    \n",
    "    if current_tree > ordered_row[0]:\n",
    "        print(True)\n",
    "        return True\n",
    "\n",
    "is_visible_from_side('day_8_sample_input', 3, 1, 'right')\n",
    "is_visible_from_side('day_8_sample_input', 3, 1, 'left')\n",
    "\n",
    "is_visible_from_side('day_8_sample_input', 2, 1, 'left')\n",
    "is_visible_from_side('day_8_sample_input', 2, 1, 'right')\n",
    "\n",
    "is_visible_from_side('day_8_sample_input', 3, 3, 'left')\n",
    "is_visible_from_side('day_8_sample_input', 3, 3, 'right')\n",
    "\n",
    "is_visible_from_side('day_8_sample_input', 1, 2, 'left')\n",
    "is_visible_from_side('day_8_sample_input', 1, 2, 'right')"
   ]
  },
  {
   "cell_type": "code",
   "execution_count": 27,
   "metadata": {},
   "outputs": [
    {
     "name": "stdout",
     "output_type": "stream",
     "text": [
      "1 7 ['7']\n",
      "1 349 ['9', '4', '3']\n",
      "5 3 ['3']\n",
      "True\n",
      "5 353 ['5', '3', '3']\n",
      "4 713 ['7', '3', '1']\n",
      "4 9 ['9']\n",
      "5 05 ['5', '0']\n",
      "5 35 ['5', '3']\n"
     ]
    }
   ],
   "source": [
    "def is_visible_from_top_or_bottom(filename, x, y, side):\n",
    "    array = read_input(filename)\n",
    "    column = ''\n",
    "    if side == 'top':\n",
    "        index = 0\n",
    "        while index < y:\n",
    "            column += array[index][x]\n",
    "            index += 1  \n",
    "    else:\n",
    "        index = y+1\n",
    "        while index < len(array):\n",
    "            column += array[index][x]\n",
    "            index += 1 \n",
    "        \n",
    "    current_tree = array[y][x]\n",
    "    \n",
    "    ordered_column = sorted(list(column), reverse = True)\n",
    "\n",
    "    print(current_tree, column, ordered_column)\n",
    "    \n",
    "    if current_tree > ordered_column[0]:\n",
    "        print(True)\n",
    "        return True\n",
    "\n",
    "is_visible_from_top_or_bottom('day_8_sample_input', 3, 1, 'top')\n",
    "is_visible_from_top_or_bottom('day_8_sample_input', 3, 1, 'bottom')\n",
    "\n",
    "is_visible_from_top_or_bottom('day_8_sample_input', 2, 1, 'top')\n",
    "is_visible_from_top_or_bottom('day_8_sample_input', 2, 1, 'bottom')\n",
    "\n",
    "is_visible_from_top_or_bottom('day_8_sample_input', 3, 3, 'top')\n",
    "is_visible_from_top_or_bottom('day_8_sample_input', 3, 3, 'bottom')\n",
    "\n",
    "is_visible_from_top_or_bottom('day_8_sample_input', 1, 2, 'top')\n",
    "is_visible_from_top_or_bottom('day_8_sample_input', 1, 2, 'bottom')"
   ]
  },
  {
   "cell_type": "code",
   "execution_count": 31,
   "metadata": {},
   "outputs": [
    {
     "name": "stdout",
     "output_type": "stream",
     "text": [
      "5 2 ['2']\n",
      "True\n",
      "5 25 ['5', '2']\n",
      "5 12 ['2', '1']\n",
      "True\n",
      "1 255 ['5', '5', '2']\n",
      "1 2 ['2']\n",
      "1 7 ['7']\n",
      "1 349 ['9', '4', '3']\n",
      "5 6 ['6']\n",
      "5 332 ['3', '3', '2']\n",
      "True\n",
      "3 65 ['6', '5']\n",
      "3 32 ['3', '2']\n",
      "3 35 ['5', '3']\n",
      "3 53 ['5', '3']\n",
      "3 653 ['6', '5', '3']\n",
      "3 2 ['2']\n",
      "True\n",
      "3 3 ['3']\n",
      "3 549 ['9', '5', '4']\n",
      "3 055 ['5', '5', '0']\n",
      "3 5 ['5']\n",
      "5 33 ['3', '3']\n",
      "True\n",
      "4 335 ['5', '3', '3']\n",
      "4 9 ['9']\n",
      "4 713 ['7', '3', '1']\n",
      "4 9 ['9']\n"
     ]
    },
    {
     "data": {
      "text/plain": [
       "5"
      ]
     },
     "execution_count": 31,
     "metadata": {},
     "output_type": "execute_result"
    }
   ],
   "source": [
    "def count_visible_inside_trees(filename):\n",
    "    array = read_input(filename)\n",
    "    tree_count = 0\n",
    "\n",
    "    row_index = 1\n",
    "    while row_index < len(array)-1:\n",
    "        column_index = 1\n",
    "        while column_index < len(array[0])-1:\n",
    "            if (is_visible_from_side(filename, column_index, row_index, 'left') or is_visible_from_side(filename, column_index, row_index, 'right') or is_visible_from_top_or_bottom(filename, column_index, row_index, 'top') or is_visible_from_top_or_bottom(filename, column_index, row_index, 'bottom')):\n",
    "                tree_count += 1\n",
    "#                 break\n",
    "            \n",
    "            column_index += 1\n",
    "        row_index += 1\n",
    "                \n",
    "    return tree_count\n",
    "\n",
    "count_visible_inside_trees('day_8_sample_input')"
   ]
  },
  {
   "cell_type": "code",
   "execution_count": 33,
   "metadata": {},
   "outputs": [
    {
     "name": "stdout",
     "output_type": "stream",
     "text": [
      "5 2 ['2']\n",
      "True\n",
      "5 25 ['5', '2']\n",
      "5 12 ['2', '1']\n",
      "True\n",
      "1 255 ['5', '5', '2']\n",
      "1 2 ['2']\n",
      "1 7 ['7']\n",
      "1 349 ['9', '4', '3']\n",
      "5 6 ['6']\n",
      "5 332 ['3', '3', '2']\n",
      "True\n",
      "3 65 ['6', '5']\n",
      "3 32 ['3', '2']\n",
      "3 35 ['5', '3']\n",
      "3 53 ['5', '3']\n",
      "3 653 ['6', '5', '3']\n",
      "3 2 ['2']\n",
      "True\n",
      "3 3 ['3']\n",
      "3 549 ['9', '5', '4']\n",
      "3 055 ['5', '5', '0']\n",
      "3 5 ['5']\n",
      "5 33 ['3', '3']\n",
      "True\n",
      "4 335 ['5', '3', '3']\n",
      "4 9 ['9']\n",
      "4 713 ['7', '3', '1']\n",
      "4 9 ['9']\n"
     ]
    },
    {
     "ename": "IndexError",
     "evalue": "list index out of range",
     "output_type": "error",
     "traceback": [
      "\u001b[0;31m---------------------------------------------------------------------------\u001b[0m",
      "\u001b[0;31mIndexError\u001b[0m                                Traceback (most recent call last)",
      "\u001b[0;32m<ipython-input-33-116cae38929e>\u001b[0m in \u001b[0;36m<module>\u001b[0;34m\u001b[0m\n\u001b[1;32m      4\u001b[0m \u001b[0;34m\u001b[0m\u001b[0m\n\u001b[1;32m      5\u001b[0m \u001b[0mcount_visible_trees\u001b[0m\u001b[0;34m(\u001b[0m\u001b[0;34m'day_8_sample_input'\u001b[0m\u001b[0;34m)\u001b[0m\u001b[0;34m\u001b[0m\u001b[0;34m\u001b[0m\u001b[0m\n\u001b[0;32m----> 6\u001b[0;31m \u001b[0mcount_visible_trees\u001b[0m\u001b[0;34m(\u001b[0m\u001b[0;34m'day_8_input'\u001b[0m\u001b[0;34m)\u001b[0m\u001b[0;34m\u001b[0m\u001b[0;34m\u001b[0m\u001b[0m\n\u001b[0m",
      "\u001b[0;32m<ipython-input-33-116cae38929e>\u001b[0m in \u001b[0;36mcount_visible_trees\u001b[0;34m(filename)\u001b[0m\n\u001b[1;32m      1\u001b[0m \u001b[0;32mdef\u001b[0m \u001b[0mcount_visible_trees\u001b[0m\u001b[0;34m(\u001b[0m\u001b[0mfilename\u001b[0m\u001b[0;34m)\u001b[0m\u001b[0;34m:\u001b[0m\u001b[0;34m\u001b[0m\u001b[0;34m\u001b[0m\u001b[0m\n\u001b[1;32m      2\u001b[0m \u001b[0;34m\u001b[0m\u001b[0m\n\u001b[0;32m----> 3\u001b[0;31m     \u001b[0;32mreturn\u001b[0m \u001b[0mcount_outside_trees\u001b[0m\u001b[0;34m(\u001b[0m\u001b[0mfilename\u001b[0m\u001b[0;34m)\u001b[0m \u001b[0;34m+\u001b[0m \u001b[0mcount_visible_inside_trees\u001b[0m\u001b[0;34m(\u001b[0m\u001b[0mfilename\u001b[0m\u001b[0;34m)\u001b[0m\u001b[0;34m\u001b[0m\u001b[0;34m\u001b[0m\u001b[0m\n\u001b[0m\u001b[1;32m      4\u001b[0m \u001b[0;34m\u001b[0m\u001b[0m\n\u001b[1;32m      5\u001b[0m \u001b[0mcount_visible_trees\u001b[0m\u001b[0;34m(\u001b[0m\u001b[0;34m'day_8_sample_input'\u001b[0m\u001b[0;34m)\u001b[0m\u001b[0;34m\u001b[0m\u001b[0;34m\u001b[0m\u001b[0m\n",
      "\u001b[0;32m<ipython-input-2-ed6500f6606b>\u001b[0m in \u001b[0;36mcount_outside_trees\u001b[0;34m(filename)\u001b[0m\n\u001b[1;32m      2\u001b[0m     \u001b[0marray\u001b[0m \u001b[0;34m=\u001b[0m \u001b[0mread_input\u001b[0m\u001b[0;34m(\u001b[0m\u001b[0mfilename\u001b[0m\u001b[0;34m)\u001b[0m\u001b[0;34m\u001b[0m\u001b[0;34m\u001b[0m\u001b[0m\n\u001b[1;32m      3\u001b[0m \u001b[0;34m\u001b[0m\u001b[0m\n\u001b[0;32m----> 4\u001b[0;31m     \u001b[0;32mreturn\u001b[0m \u001b[0mlen\u001b[0m\u001b[0;34m(\u001b[0m\u001b[0marray\u001b[0m\u001b[0;34m[\u001b[0m\u001b[0;36m0\u001b[0m\u001b[0;34m]\u001b[0m\u001b[0;34m)\u001b[0m\u001b[0;34m*\u001b[0m\u001b[0;36m2\u001b[0m \u001b[0;34m+\u001b[0m \u001b[0;34m(\u001b[0m\u001b[0mlen\u001b[0m\u001b[0;34m(\u001b[0m\u001b[0marray\u001b[0m\u001b[0;34m)\u001b[0m\u001b[0;34m-\u001b[0m\u001b[0;36m2\u001b[0m\u001b[0;34m)\u001b[0m\u001b[0;34m*\u001b[0m\u001b[0;36m2\u001b[0m\u001b[0;34m\u001b[0m\u001b[0;34m\u001b[0m\u001b[0m\n\u001b[0m\u001b[1;32m      5\u001b[0m \u001b[0;34m\u001b[0m\u001b[0m\n\u001b[1;32m      6\u001b[0m \u001b[0mcount_outside_trees\u001b[0m\u001b[0;34m(\u001b[0m\u001b[0;34m'day_8_sample_input'\u001b[0m\u001b[0;34m)\u001b[0m\u001b[0;34m\u001b[0m\u001b[0;34m\u001b[0m\u001b[0m\n",
      "\u001b[0;31mIndexError\u001b[0m: list index out of range"
     ]
    }
   ],
   "source": [
    "def count_visible_trees(filename):\n",
    "    \n",
    "    return count_outside_trees(filename) + count_visible_inside_trees(filename)\n",
    "\n",
    "count_visible_trees('day_8_sample_input')\n",
    "count_visible_trees('day_8_input')"
   ]
  },
  {
   "cell_type": "code",
   "execution_count": null,
   "metadata": {},
   "outputs": [],
   "source": []
  }
 ],
 "metadata": {
  "kernelspec": {
   "display_name": "Python 3",
   "language": "python",
   "name": "python3"
  },
  "language_info": {
   "codemirror_mode": {
    "name": "ipython",
    "version": 3
   },
   "file_extension": ".py",
   "mimetype": "text/x-python",
   "name": "python",
   "nbconvert_exporter": "python",
   "pygments_lexer": "ipython3",
   "version": "3.8.5"
  }
 },
 "nbformat": 4,
 "nbformat_minor": 4
}
