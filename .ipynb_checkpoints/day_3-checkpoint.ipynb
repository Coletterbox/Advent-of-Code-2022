{
 "cells": [
  {
   "cell_type": "code",
   "execution_count": 26,
   "metadata": {},
   "outputs": [
    {
     "name": "stdout",
     "output_type": "stream",
     "text": [
      "vJrwpWtwJgWrhcsFMMfFFhFp\n",
      "jqHRNqRjqzjGDLGLrsFMfFZSrLrFZsSL\n",
      "PmmdzqPrVvPwwTWBwg\n",
      "wMqvLMZHhHMvwLHjbvcjnnSBnvTQFn\n",
      "ttgJtRGJQctTZtZT\n",
      "CrZsJsPPZsGzwwsLwLmpwMDw\n",
      "['vJrwpWtwJgWrhcsFMMfFFhFp', 'jqHRNqRjqzjGDLGLrsFMfFZSrLrFZsSL', 'PmmdzqPrVvPwwTWBwg', 'wMqvLMZHhHMvwLHjbvcjnnSBnvTQFn', 'ttgJtRGJQctTZtZT', 'CrZsJsPPZsGzwwsLwLmpwMDw']\n"
     ]
    }
   ],
   "source": [
    "def read_input(filename):\n",
    "    with open(filename) as f:\n",
    "        lines = f.readlines()\n",
    "\n",
    "    array = []\n",
    "\n",
    "    for line in lines:\n",
    "        line = line.rstrip()\n",
    "        print(line)\n",
    "        array.append(line)\n",
    "\n",
    "    return array\n",
    "\n",
    "print(read_input('day_3_sample_input'))"
   ]
  },
  {
   "cell_type": "code",
   "execution_count": 27,
   "metadata": {},
   "outputs": [
    {
     "name": "stdout",
     "output_type": "stream",
     "text": [
      "vJrwpWtwJgWrhcsFMMfFFhFp\n",
      "jqHRNqRjqzjGDLGLrsFMfFZSrLrFZsSL\n",
      "PmmdzqPrVvPwwTWBwg\n",
      "wMqvLMZHhHMvwLHjbvcjnnSBnvTQFn\n",
      "ttgJtRGJQctTZtZT\n",
      "CrZsJsPPZsGzwwsLwLmpwMDw\n",
      "input_array ['vJrwpWtwJgWrhcsFMMfFFhFp', 'jqHRNqRjqzjGDLGLrsFMfFZSrLrFZsSL', 'PmmdzqPrVvPwwTWBwg', 'wMqvLMZHhHMvwLHjbvcjnnSBnvTQFn', 'ttgJtRGJQctTZtZT', 'CrZsJsPPZsGzwwsLwLmpwMDw']\n",
      "vJrwpWtwJgWr\n",
      "hcsFMMfFFhFp\n",
      "jqHRNqRjqzjGDLGL\n",
      "rsFMfFZSrLrFZsSL\n",
      "PmmdzqPrV\n",
      "vPwwTWBwg\n",
      "wMqvLMZHhHMvwLH\n",
      "jbvcjnnSBnvTQFn\n",
      "ttgJtRGJ\n",
      "QctTZtZT\n",
      "CrZsJsPPZsGz\n",
      "wwsLwLmpwMDw\n"
     ]
    },
    {
     "data": {
      "text/plain": [
       "['p', 'L', 'P', 'v', 't', 's']"
      ]
     },
     "execution_count": 27,
     "metadata": {},
     "output_type": "execute_result"
    }
   ],
   "source": [
    "def find_doubles(filename):\n",
    "    input_array = read_input(filename)\n",
    "    print('input_array', input_array)\n",
    "    doubles_array = []\n",
    "    \n",
    "    for line in input_array:\n",
    "#         part_1 = slice(0, len(line)/2, None)\n",
    "#         part_2 = slice(len(line)/2, len(line), None)\n",
    "        \n",
    "        print(line[0:int(len(line)/2)])\n",
    "#         print(int(len(line)/2))\n",
    "        print(line[int(len(line)/2):int(len(line))])\n",
    "        \n",
    "        first_half = line[0:int(len(line)/2)]\n",
    "        second_half = line[int(len(line)/2):int(len(line))]\n",
    "        \n",
    "        for character in first_half:\n",
    "            if (character in second_half):\n",
    "#                 print(character)\n",
    "                doubles_array.append(character)\n",
    "                break\n",
    "    \n",
    "    return doubles_array\n",
    "    \n",
    "find_doubles('day_3_sample_input')\n",
    "    "
   ]
  },
  {
   "cell_type": "code",
   "execution_count": 28,
   "metadata": {},
   "outputs": [
    {
     "name": "stdout",
     "output_type": "stream",
     "text": [
      "vJrwpWtwJgWrhcsFMMfFFhFp\n",
      "jqHRNqRjqzjGDLGLrsFMfFZSrLrFZsSL\n",
      "PmmdzqPrVvPwwTWBwg\n",
      "wMqvLMZHhHMvwLHjbvcjnnSBnvTQFn\n",
      "ttgJtRGJQctTZtZT\n",
      "CrZsJsPPZsGzwwsLwLmpwMDw\n",
      "input_array ['vJrwpWtwJgWrhcsFMMfFFhFp', 'jqHRNqRjqzjGDLGLrsFMfFZSrLrFZsSL', 'PmmdzqPrVvPwwTWBwg', 'wMqvLMZHhHMvwLHjbvcjnnSBnvTQFn', 'ttgJtRGJQctTZtZT', 'CrZsJsPPZsGzwwsLwLmpwMDw']\n",
      "vJrwpWtwJgWr\n",
      "hcsFMMfFFhFp\n",
      "jqHRNqRjqzjGDLGL\n",
      "rsFMfFZSrLrFZsSL\n",
      "PmmdzqPrV\n",
      "vPwwTWBwg\n",
      "wMqvLMZHhHMvwLH\n",
      "jbvcjnnSBnvTQFn\n",
      "ttgJtRGJ\n",
      "QctTZtZT\n",
      "CrZsJsPPZsGz\n",
      "wwsLwLmpwMDw\n",
      "array ['p', 'L', 'P', 'v', 't', 's']\n"
     ]
    },
    {
     "ename": "UnboundLocalError",
     "evalue": "local variable 'priority' referenced before assignment",
     "output_type": "error",
     "traceback": [
      "\u001b[0;31m---------------------------------------------------------------------------\u001b[0m",
      "\u001b[0;31mUnboundLocalError\u001b[0m                         Traceback (most recent call last)",
      "\u001b[0;32m<ipython-input-28-58ac9323616e>\u001b[0m in \u001b[0;36m<module>\u001b[0;34m\u001b[0m\n\u001b[1;32m     63\u001b[0m     \u001b[0;32mreturn\u001b[0m \u001b[0mtotal\u001b[0m\u001b[0;34m\u001b[0m\u001b[0;34m\u001b[0m\u001b[0m\n\u001b[1;32m     64\u001b[0m \u001b[0;34m\u001b[0m\u001b[0m\n\u001b[0;32m---> 65\u001b[0;31m \u001b[0msum_priorities\u001b[0m\u001b[0;34m(\u001b[0m\u001b[0;34m'day_3_sample_input'\u001b[0m\u001b[0;34m)\u001b[0m\u001b[0;34m\u001b[0m\u001b[0;34m\u001b[0m\u001b[0m\n\u001b[0m\u001b[1;32m     66\u001b[0m \u001b[0;34m\u001b[0m\u001b[0m\n",
      "\u001b[0;32m<ipython-input-28-58ac9323616e>\u001b[0m in \u001b[0;36msum_priorities\u001b[0;34m(filename)\u001b[0m\n\u001b[1;32m     59\u001b[0m \u001b[0;34m\u001b[0m\u001b[0m\n\u001b[1;32m     60\u001b[0m     \u001b[0;32mfor\u001b[0m \u001b[0mitem\u001b[0m \u001b[0;32min\u001b[0m \u001b[0marray\u001b[0m\u001b[0;34m:\u001b[0m\u001b[0;34m\u001b[0m\u001b[0;34m\u001b[0m\u001b[0m\n\u001b[0;32m---> 61\u001b[0;31m         \u001b[0mtotal\u001b[0m \u001b[0;34m+=\u001b[0m \u001b[0mpriority\u001b[0m\u001b[0;34m[\u001b[0m\u001b[0mitem\u001b[0m\u001b[0;34m]\u001b[0m\u001b[0;34m\u001b[0m\u001b[0;34m\u001b[0m\u001b[0m\n\u001b[0m\u001b[1;32m     62\u001b[0m \u001b[0;34m\u001b[0m\u001b[0m\n\u001b[1;32m     63\u001b[0m     \u001b[0;32mreturn\u001b[0m \u001b[0mtotal\u001b[0m\u001b[0;34m\u001b[0m\u001b[0;34m\u001b[0m\u001b[0m\n",
      "\u001b[0;31mUnboundLocalError\u001b[0m: local variable 'priority' referenced before assignment"
     ]
    }
   ],
   "source": [
    "def sum_priorities(filename):\n",
    "    array = find_doubles(filename)\n",
    "    print('array', array)\n",
    "    total = 0\n",
    "    priority = {\n",
    "        'a' : 1,\n",
    "        'b' : 2,\n",
    "        'c' : 3,\n",
    "        'd' : 4,\n",
    "        'e' : 5,\n",
    "        'f' : 6,\n",
    "        'g' : 7,\n",
    "        'h' : 8,\n",
    "        'i' : 9,\n",
    "        'j' : 10,\n",
    "        'k' : 11,\n",
    "        'l' : 12,\n",
    "        'm' : 13,\n",
    "        'n' : 14,\n",
    "        'o' : 15,\n",
    "        'p' : 16,\n",
    "        'q' : 17,\n",
    "        'r' : 18,\n",
    "        's' : 19,\n",
    "        't' : 20,\n",
    "        'u' : 21,\n",
    "        'v' : 22,\n",
    "        'w' : 23,\n",
    "        'x' : 24,\n",
    "        'y' : 25,\n",
    "        'z' : 26,\n",
    "        'A' : 27,\n",
    "        'B' : 28,\n",
    "        'C' : 29,\n",
    "        'D' : 30,\n",
    "        'E' : 31,\n",
    "        'F' : 32,\n",
    "        'G' : 33,\n",
    "        'H' : 34,\n",
    "        'I' : 35,\n",
    "        'J' : 36,\n",
    "        'K' : 37,\n",
    "        'L' : 38,\n",
    "        'M' : 39,\n",
    "        'N' : 40,\n",
    "        'O' : 41,\n",
    "        'P' : 42,\n",
    "        'Q' : 43,\n",
    "        'R' : 44,\n",
    "        'S' : 45,\n",
    "        'T' : 46,\n",
    "        'U' : 47,\n",
    "        'V' : 48,\n",
    "        'W' : 49,\n",
    "        'X' : 50,\n",
    "        'Y' : 51,\n",
    "        'Z' : 52,\n",
    "    }\n",
    "    \n",
    "    for item in array:\n",
    "        total += priority[item]\n",
    "    \n",
    "    return total\n",
    "\n",
    "sum_priorities('day_3_sample_input')\n",
    "    "
   ]
  },
  {
   "cell_type": "code",
   "execution_count": null,
   "metadata": {},
   "outputs": [],
   "source": []
  }
 ],
 "metadata": {
  "kernelspec": {
   "display_name": "Python 3",
   "language": "python",
   "name": "python3"
  },
  "language_info": {
   "codemirror_mode": {
    "name": "ipython",
    "version": 3
   },
   "file_extension": ".py",
   "mimetype": "text/x-python",
   "name": "python",
   "nbconvert_exporter": "python",
   "pygments_lexer": "ipython3",
   "version": "3.8.5"
  }
 },
 "nbformat": 4,
 "nbformat_minor": 4
}
