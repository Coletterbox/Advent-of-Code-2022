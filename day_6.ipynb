{
 "cells": [
  {
   "cell_type": "code",
   "execution_count": 5,
   "metadata": {},
   "outputs": [
    {
     "name": "stdout",
     "output_type": "stream",
     "text": [
      "bvwbjplbgvbhsrlpgdmjqwftvncz\n",
      "nppdvjthqldpwncqszvftbrmjlhg\n",
      "nznrnfrfntjfmvfwmzdfjlvtqnbhcprsg\n",
      "zcfzfwzzqfrljwzlrfnpqdbhtmscgvjw\n"
     ]
    }
   ],
   "source": [
    "def read_input(filename):\n",
    "    with open(filename) as f:\n",
    "        lines = f.readlines()\n",
    "\n",
    "#     array = []\n",
    "\n",
    "#     for line in lines:\n",
    "#         line = line.rstrip()\n",
    "#         array.append(line)\n",
    "\n",
    "#     return array\n",
    "\n",
    "    return lines[0]\n",
    "\n",
    "print(read_input('day_6_sample_input_0'))\n",
    "print(read_input('day_6_sample_input_1'))\n",
    "print(read_input('day_6_sample_input_2'))\n",
    "print(read_input('day_6_sample_input_3'))\n",
    "# print(read_input('day_6_input'))"
   ]
  },
  {
   "cell_type": "code",
   "execution_count": 10,
   "metadata": {},
   "outputs": [
    {
     "name": "stdout",
     "output_type": "stream",
     "text": [
      "['b', 'w', 'v', 'b']\n",
      "['j', 'b', 'w', 'v']\n",
      "5\n"
     ]
    }
   ],
   "source": [
    "def find_index(filename):\n",
    "    letters = read_input(filename)\n",
    "    \n",
    "    i = 3\n",
    "    while i < len(letters):\n",
    "        four_letters = [letters[i], letters[i-1], letters[i-2], letters[i-3]]\n",
    "        print(four_letters)\n",
    "        unique_letters = set(four_letters)\n",
    "        \n",
    "        if len(unique_letters) == 4:\n",
    "            return i+1\n",
    "        \n",
    "        i+=1\n",
    "    \n",
    "print(find_index('day_6_sample_input_0'))\n",
    "print(find_index('day_6_sample_input_1'))\n",
    "print(find_index('day_6_sample_input_2'))\n",
    "print(find_index('day_6_sample_input_3'))"
   ]
  },
  {
   "cell_type": "code",
   "execution_count": null,
   "metadata": {},
   "outputs": [],
   "source": []
  },
  {
   "cell_type": "code",
   "execution_count": null,
   "metadata": {},
   "outputs": [],
   "source": []
  }
 ],
 "metadata": {
  "kernelspec": {
   "display_name": "Python 3",
   "language": "python",
   "name": "python3"
  },
  "language_info": {
   "codemirror_mode": {
    "name": "ipython",
    "version": 3
   },
   "file_extension": ".py",
   "mimetype": "text/x-python",
   "name": "python",
   "nbconvert_exporter": "python",
   "pygments_lexer": "ipython3",
   "version": "3.8.5"
  }
 },
 "nbformat": 4,
 "nbformat_minor": 4
}
