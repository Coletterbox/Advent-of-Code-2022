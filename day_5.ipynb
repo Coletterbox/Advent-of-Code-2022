{
 "cells": [
  {
   "cell_type": "code",
   "execution_count": 1,
   "metadata": {},
   "outputs": [
    {
     "name": "stdout",
     "output_type": "stream",
     "text": [
      "['    [D]', '[N] [C]', '[Z] [M] [P]', ' 1   2   3', '', 'move 1 from 2 to 1', 'move 3 from 1 to 3', 'move 2 from 2 to 1', 'move 1 from 1 to 2']\n"
     ]
    }
   ],
   "source": [
    "def read_input(filename):\n",
    "    with open(filename) as f:\n",
    "        lines = f.readlines()\n",
    "\n",
    "    array = []\n",
    "\n",
    "    for line in lines:\n",
    "        line = line.rstrip()\n",
    "        array.append(line)\n",
    "\n",
    "    return array\n",
    "\n",
    "print(read_input('day_5_sample_input'))"
   ]
  },
  {
   "cell_type": "code",
   "execution_count": 2,
   "metadata": {},
   "outputs": [
    {
     "data": {
      "text/plain": [
       "4"
      ]
     },
     "execution_count": 2,
     "metadata": {},
     "output_type": "execute_result"
    }
   ],
   "source": [
    "def find_split(array):\n",
    "    split_index = 0\n",
    "    \n",
    "    for line in array:\n",
    "        if line == '':\n",
    "            split_index = array.index(line)\n",
    "    \n",
    "    return split_index\n",
    "\n",
    "find_split(read_input('day_5_sample_input'))"
   ]
  },
  {
   "cell_type": "code",
   "execution_count": 7,
   "metadata": {},
   "outputs": [
    {
     "data": {
      "text/plain": [
       "['    [D]', '[N] [C]', '[Z] [M] [P]', ' 1   2   3']"
      ]
     },
     "execution_count": 7,
     "metadata": {},
     "output_type": "execute_result"
    }
   ],
   "source": [
    "def get_stacks(filename):\n",
    "    array = read_input(filename)\n",
    "    split_index = find_split(array)\n",
    "    \n",
    "    stacks = array[0:split_index]\n",
    "    return stacks\n",
    "    \n",
    "get_stacks('day_5_sample_input')"
   ]
  },
  {
   "cell_type": "code",
   "execution_count": 10,
   "metadata": {},
   "outputs": [
    {
     "data": {
      "text/plain": [
       "'3'"
      ]
     },
     "execution_count": 10,
     "metadata": {},
     "output_type": "execute_result"
    }
   ],
   "source": [
    "def get_number_of_stacks(filename):\n",
    "    stacks = get_stacks(filename)\n",
    "    array = read_input(filename)\n",
    "    split_index = find_split(array)\n",
    "    \n",
    "    return stacks[split_index - 1].split(' ').pop()\n",
    "\n",
    "get_number_of_stacks('day_5_sample_input')"
   ]
  },
  {
   "cell_type": "code",
   "execution_count": 13,
   "metadata": {},
   "outputs": [
    {
     "data": {
      "text/plain": [
       "['    [D]', '[N] [C]', '[Z] [M] [P]']"
      ]
     },
     "execution_count": 13,
     "metadata": {},
     "output_type": "execute_result"
    }
   ],
   "source": [
    "def get_boxes_only(filename):\n",
    "    array = get_stacks(filename)\n",
    "    \n",
    "    return array[0:len(array) - 1]\n",
    "\n",
    "get_boxes_only('day_5_sample_input')"
   ]
  },
  {
   "cell_type": "code",
   "execution_count": 15,
   "metadata": {},
   "outputs": [
    {
     "data": {
      "text/plain": [
       "['move 1 from 2 to 1',\n",
       " 'move 3 from 1 to 3',\n",
       " 'move 2 from 2 to 1',\n",
       " 'move 1 from 1 to 2']"
      ]
     },
     "execution_count": 15,
     "metadata": {},
     "output_type": "execute_result"
    }
   ],
   "source": [
    "def get_instructions(filename):\n",
    "    array = read_input(filename)\n",
    "    split = find_split(array)\n",
    "    \n",
    "    return array[split + 1:len(array)]\n",
    "    \n",
    "get_instructions('day_5_sample_input')"
   ]
  },
  {
   "cell_type": "code",
   "execution_count": 29,
   "metadata": {},
   "outputs": [
    {
     "name": "stdout",
     "output_type": "stream",
     "text": [
      "['1', '2', '1']\n",
      "['3', '1', '3']\n",
      "['2', '2', '1']\n",
      "['1', '1', '2']\n"
     ]
    },
    {
     "data": {
      "text/plain": [
       "[['1', '2', '1'], ['3', '1', '3'], ['2', '2', '1'], ['1', '1', '2']]"
      ]
     },
     "execution_count": 29,
     "metadata": {},
     "output_type": "execute_result"
    }
   ],
   "source": [
    "def get_instruction_numbers(filename):\n",
    "    array = get_instructions(filename)\n",
    "    result_array = []\n",
    "    \n",
    "    for line in array:\n",
    "        line = line.split(' ')\n",
    "        new_line = [line[1], line[3], line[5]]\n",
    "        result_array.append(new_line)\n",
    "        \n",
    "    return result_array\n",
    "\n",
    "get_instruction_numbers('day_5_sample_input')"
   ]
  },
  {
   "cell_type": "code",
   "execution_count": 45,
   "metadata": {},
   "outputs": [
    {
     "name": "stdout",
     "output_type": "stream",
     "text": [
      "1 [Z] [M] [P]\n",
      "2 ['[Z]', '[M]', '[P]']\n",
      "0\n",
      "1\n",
      "2\n",
      "1 [N] [C]\n",
      "2 ['[N]', '[C]']\n",
      "0\n",
      "1\n",
      "1     [D]\n",
      "2 ['', '', '', '', '[D]']\n",
      "0\n",
      "0\n",
      "0\n",
      "0\n",
      "4\n",
      "['', '', '']\n"
     ]
    }
   ],
   "source": [
    "def create_stack(filename):\n",
    "    boxes = get_boxes_only(filename)\n",
    "#     ['    [D]', '[N] [C]', '[Z] [M] [P]']\n",
    "    stack = ['', '', '']\n",
    "    \n",
    "    i = len(boxes) - 1\n",
    "    while i >= 0:\n",
    "        print(1, boxes[i])\n",
    "        boxes[i] = boxes[i].split(' ')\n",
    "        print(2, boxes[i])\n",
    "        for letter in boxes[i]:\n",
    "#             stack[boxes[i].index(letter)] += letter\n",
    "            print(boxes[i].index(letter))\n",
    "            \n",
    "        i -= 1\n",
    "        \n",
    "    \n",
    "    print(stack)\n",
    "    \n",
    "create_stack('day_5_sample_input')\n",
    "    "
   ]
  },
  {
   "cell_type": "code",
   "execution_count": null,
   "metadata": {},
   "outputs": [],
   "source": [
    "def move_boxes(quantity, start, end):\n"
   ]
  }
 ],
 "metadata": {
  "kernelspec": {
   "display_name": "Python 3",
   "language": "python",
   "name": "python3"
  },
  "language_info": {
   "codemirror_mode": {
    "name": "ipython",
    "version": 3
   },
   "file_extension": ".py",
   "mimetype": "text/x-python",
   "name": "python",
   "nbconvert_exporter": "python",
   "pygments_lexer": "ipython3",
   "version": "3.8.5"
  }
 },
 "nbformat": 4,
 "nbformat_minor": 4
}
