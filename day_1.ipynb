{
 "cells": [
  {
   "cell_type": "code",
   "execution_count": 10,
   "metadata": {},
   "outputs": [
    {
     "data": {
      "text/plain": [
       "['1000\\n',\n",
       " '2000\\n',\n",
       " '3000\\n',\n",
       " '\\n',\n",
       " '4000\\n',\n",
       " '\\n',\n",
       " '5000\\n',\n",
       " '6000\\n',\n",
       " '\\n',\n",
       " '7000\\n',\n",
       " '8000\\n',\n",
       " '9000\\n',\n",
       " '\\n',\n",
       " '10000']"
      ]
     },
     "execution_count": 10,
     "metadata": {},
     "output_type": "execute_result"
    }
   ],
   "source": [
    "with open('day_1_sample_input') as f:\n",
    "    lines = f.readlines()\n",
    "    \n",
    "lines"
   ]
  },
  {
   "cell_type": "code",
   "execution_count": 25,
   "metadata": {},
   "outputs": [
    {
     "name": "stdout",
     "output_type": "stream",
     "text": [
      "1000\n",
      "2000\n",
      "3000\n",
      "\n",
      "4000\n",
      "\n",
      "5000\n",
      "6000\n",
      "\n",
      "7000\n",
      "8000\n",
      "9000\n",
      "\n",
      "10000\n"
     ]
    },
    {
     "data": {
      "text/plain": [
       "[6000, 4000, 11000, 24000, 10000]"
      ]
     },
     "execution_count": 25,
     "metadata": {},
     "output_type": "execute_result"
    }
   ],
   "source": [
    "int_array = [0]\n",
    "two_dimensional_array = []\n",
    "index = 0\n",
    "\n",
    "for line in lines:\n",
    "#     line.replace('\\n', '')\n",
    "#     line.rstrip('\\n')\n",
    "#     line.strip()\n",
    "    line = line.rstrip()\n",
    "    print(line)\n",
    "    \n",
    "    if len(line) > 0:\n",
    "#         int_array.append(int(line))\n",
    "        int_array[index]+=int(line)\n",
    "    else:\n",
    "        index = index + 1\n",
    "        int_array.append(0)\n",
    "#         int_array[index] = int(line) #no. it's still on the blank line. you need sleep.\n",
    "    \n",
    "int_array"
   ]
  },
  {
   "cell_type": "code",
   "execution_count": null,
   "metadata": {},
   "outputs": [],
   "source": [
    "max(int_array)"
   ]
  }
 ],
 "metadata": {
  "kernelspec": {
   "display_name": "Python 3",
   "language": "python",
   "name": "python3"
  },
  "language_info": {
   "codemirror_mode": {
    "name": "ipython",
    "version": 3
   },
   "file_extension": ".py",
   "mimetype": "text/x-python",
   "name": "python",
   "nbconvert_exporter": "python",
   "pygments_lexer": "ipython3",
   "version": "3.8.5"
  }
 },
 "nbformat": 4,
 "nbformat_minor": 4
}
